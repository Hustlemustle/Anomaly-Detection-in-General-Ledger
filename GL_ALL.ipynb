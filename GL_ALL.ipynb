{
 "cells": [
  {
   "cell_type": "code",
   "execution_count": 10,
   "metadata": {},
   "outputs": [],
   "source": [
    "import pandas as pd\n",
    "\n",
    "# Load the Excel file\n",
    "file_path = '/Users/sishengliang/Desktop/Intern SF/Anomaly Detection in GL/Data file for students.xlsx'\n",
    "excel_data = pd.ExcelFile(file_path)\n",
    "\n",
    "# Load the \"GL\" sheet\n",
    "gl_data = pd.read_excel(file_path, sheet_name='GL')\n",
    "\n",
    "# Calculate the IQR for each Account_key's Details corresponding 'Amount'\n",
    "def calculate_iqr(data):\n",
    "    Q1 = data.quantile(0.25)\n",
    "    Q3 = data.quantile(0.75)\n",
    "    IQR = Q3 - Q1\n",
    "    return IQR, Q1, Q3\n",
    "\n",
    "# Function to identify outliers using IQR\n",
    "def identify_outliers(data, Q1, Q3, IQR):\n",
    "    lower_bound = Q1 - 1.5 * IQR\n",
    "    upper_bound = Q3 + 1.5 * IQR\n",
    "    outliers = data[(data < lower_bound) | (data > upper_bound)]\n",
    "    return outliers\n",
    "\n",
    "# Group data by Account_key and Details\n",
    "grouped_data = gl_data.groupby(['Account_key', 'Details'])\n",
    "\n",
    "# Initialize results dictionary\n",
    "results = []\n",
    "\n",
    "# Iterate through each group and calculate outliers\n",
    "for (account_key, details), group in grouped_data:\n",
    "    amount_data = group['Amount']\n",
    "    IQR, Q1, Q3 = calculate_iqr(amount_data)\n",
    "    outliers = identify_outliers(amount_data, Q1, Q3, IQR)\n",
    "    \n",
    "    # Append results\n",
    "    results.append({\n",
    "        'Account_key': account_key,\n",
    "        'Details': details,\n",
    "        'Total Data Points': len(amount_data),\n",
    "        'Number of Outliers': len(outliers)\n",
    "    })\n",
    "\n",
    "# Convert results to DataFrame for display\n",
    "results_df = pd.DataFrame(results)"
   ]
  },
  {
   "cell_type": "code",
   "execution_count": 14,
   "metadata": {},
   "outputs": [],
   "source": [
    "#generate the output excel file of results_df\n",
    "results_df.to_excel('/Users/sishengliang/Desktop/Intern SF/Anomaly Detection in GL/Anomaly Detection Results.xlsx', index=False)"
   ]
  },
  {
   "cell_type": "code",
   "execution_count": 11,
   "metadata": {},
   "outputs": [
    {
     "name": "stdout",
     "output_type": "stream",
     "text": [
      "   Account_key     Details  Total Data Points  Number of Outliers\n",
      "0          210  Cash Sales                882                  25\n"
     ]
    }
   ],
   "source": [
    "def display_outliers_summary(gl_data, account_key, details):\n",
    "    # Filter data based on the specified Account_key and Details\n",
    "    filtered_data = gl_data[(gl_data['Account_key'] == account_key) & (gl_data['Details'] == details)]\n",
    "    \n",
    "    # Check if the filtered data is empty\n",
    "    if filtered_data.empty:\n",
    "        print(f\"No data found for Account_key: {account_key} and Details: {details}\")\n",
    "        return\n",
    "    \n",
    "    # Calculate IQR and identify outliers\n",
    "    amount_data = filtered_data['Amount']\n",
    "    IQR, Q1, Q3 = calculate_iqr(amount_data)\n",
    "    outliers = identify_outliers(amount_data, Q1, Q3, IQR)\n",
    "    \n",
    "    # Create a summary DataFrame\n",
    "    summary = pd.DataFrame({\n",
    "        'Account_key': [account_key],\n",
    "        'Details': [details],\n",
    "        'Total Data Points': [len(amount_data)],\n",
    "        'Number of Outliers': [len(outliers)]\n",
    "    })\n",
    "    \n",
    "    # Display the summary\n",
    "    print(summary)"
   ]
  },
  {
   "cell_type": "code",
   "execution_count": 13,
   "metadata": {},
   "outputs": [
    {
     "name": "stdout",
     "output_type": "stream",
     "text": [
      "   Account_key       Details  Total Data Points  Number of Outliers\n",
      "0          210  Credit Sales               1386                  66\n"
     ]
    }
   ],
   "source": [
    "# Example usage\n",
    "display_outliers_summary(gl_data, 210, 'Credit Sales')"
   ]
  },
  {
   "cell_type": "code",
   "execution_count": 12,
   "metadata": {},
   "outputs": [
    {
     "data": {
      "image/png": "[encoded data removed]",
      "text/plain": [
       "<Figure size 1000x600 with 1 Axes>"
      ]
     },
     "metadata": {},
     "output_type": "display_data"
    }
   ],
   "source": [
    "import matplotlib.pyplot as plt\n",
    "\n",
    "def show_boxplot(gl_data, account_key, details):\n",
    "    # Filter data based on the specified Account_key and Details\n",
    "    filtered_data = gl_data[(gl_data['Account_key'] == account_key) & (gl_data['Details'] == details)]\n",
    "    \n",
    "    # Check if the filtered data is empty\n",
    "    if filtered_data.empty:\n",
    "        print(f\"No data found for Account_key: {account_key} and Details: {details}\")\n",
    "        return\n",
    "    \n",
    "    # Create a boxplot for the Amount column of the filtered data\n",
    "    plt.figure(figsize=(10, 6))\n",
    "    plt.boxplot(filtered_data['Amount'], vert=False)\n",
    "    plt.title(f'Boxplot for Account_key: {account_key} and Details: {details}')\n",
    "    plt.xlabel('Amount')\n",
    "    plt.show()\n",
    "\n",
    "# Example usage\n",
    "show_boxplot(gl_data, 210, 'Cash Sales')"
   ]
  }
 ],
 "metadata": {
  "kernelspec": {
   "display_name": "newquant",
   "language": "python",
   "name": "python3"
  },
  "language_info": {
   "codemirror_mode": {
    "name": "ipython",
    "version": 3
   },
   "file_extension": ".py",
   "mimetype": "text/x-python",
   "name": "python",
   "nbconvert_exporter": "python",
   "pygments_lexer": "ipython3",
   "version": "3.9.19"
  }
 },
 "nbformat": 4,
 "nbformat_minor": 2
}
