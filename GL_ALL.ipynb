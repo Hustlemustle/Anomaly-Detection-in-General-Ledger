{
 "cells": [
  {
   "cell_type": "code",
   "execution_count": 1,
   "metadata": {},
   "outputs": [],
   "source": [
    "import pandas as pd\n",
    "\n",
    "# Load the Excel file\n",
    "file_path = '/Users/sishengliang/Desktop/Intern SF/Anomaly Detection in GL/Data file for students.xlsx'\n",
    "excel_data = pd.ExcelFile(file_path)\n",
    "\n",
    "# Load the \"GL\" sheet\n",
    "gl_data = pd.read_excel(file_path, sheet_name='GL')\n",
    "\n",
    "# Calculate the IQR for each Account_key's Details corresponding 'Amount'\n",
    "def calculate_iqr(data):\n",
    "    Q1 = data.quantile(0.25)\n",
    "    Q3 = data.quantile(0.75)\n",
    "    IQR = Q3 - Q1\n",
    "    return IQR, Q1, Q3\n",
    "\n",
    "# Function to identify outliers using IQR\n",
    "def identify_outliers(data, Q1, Q3, IQR):\n",
    "    lower_bound = Q1 - 1.5 * IQR\n",
    "    upper_bound = Q3 + 1.5 * IQR\n",
    "    outliers = data[(data < lower_bound) | (data > upper_bound)]\n",
    "    return outliers\n",
    "\n",
    "# Group data by Account_key and Details\n",
    "grouped_data = gl_data.groupby(['Account_key', 'Details'])\n",
    "\n",
    "# Initialize results dictionary\n",
    "results = []\n",
    "\n",
    "# Iterate through each group and calculate outliers\n",
    "for (account_key, details), group in grouped_data:\n",
    "    amount_data = group['Amount']\n",
    "    IQR, Q1, Q3 = calculate_iqr(amount_data)\n",
    "    outliers = identify_outliers(amount_data, Q1, Q3, IQR)\n",
    "    \n",
    "    # Append results\n",
    "    results.append({\n",
    "        'Account_key': account_key,\n",
    "        'Details': details,\n",
    "        'Total Data Points': len(amount_data),\n",
    "        'Number of Outliers': len(outliers)\n",
    "    })\n",
    "\n",
    "# Convert results to DataFrame for display\n",
    "results_df = pd.DataFrame(results)"
   ]
  },
  {
   "cell_type": "code",
   "execution_count": 2,
   "metadata": {},
   "outputs": [],
   "source": [
    "#generate the output excel file of results_df\n",
    "results_df.to_excel('/Users/sishengliang/Desktop/Intern SF/Anomaly Detection in GL/Anomaly Detection Results.xlsx', index=False)"
   ]
  },
  {
   "cell_type": "code",
   "execution_count": 4,
   "metadata": {},
   "outputs": [],
   "source": [
    "def display_outliers_summary(gl_data, account_key, details):\n",
    "    # Filter data based on the specified Account_key and Details\n",
    "    filtered_data = gl_data[(gl_data['Account_key'] == account_key) & (gl_data['Details'] == details)]\n",
    "    \n",
    "    # Check if the filtered data is empty\n",
    "    if filtered_data.empty:\n",
    "        print(f\"No data found for Account_key: {account_key} and Details: {details}\")\n",
    "        return\n",
    "    \n",
    "    # Calculate IQR and identify outliers\n",
    "    amount_data = filtered_data['Amount']\n",
    "    IQR, Q1, Q3 = calculate_iqr(amount_data)\n",
    "    outliers = identify_outliers(amount_data, Q1, Q3, IQR)\n",
    "    \n",
    "    # Create a summary DataFrame\n",
    "    summary = pd.DataFrame({\n",
    "        'Account_key': [account_key],\n",
    "        'Details': [details],\n",
    "        'Total Data Points': [len(amount_data)],\n",
    "        'Number of Outliers': [len(outliers)]\n",
    "    })\n",
    "    \n",
    "    # Display the summary\n",
    "    print(summary)"
   ]
  },
  {
   "cell_type": "code",
   "execution_count": 5,
   "metadata": {},
   "outputs": [
    {
     "name": "stdout",
     "output_type": "stream",
     "text": [
      "   Account_key          Details  Total Data Points  Number of Outliers\n",
      "0          120  Credit Expenses               2226                 123\n"
     ]
    }
   ],
   "source": [
    "# Example usage\n",
    "display_outliers_summary(gl_data, 120, 'Credit Expenses')"
   ]
  },
  {
   "cell_type": "code",
   "execution_count": 6,
   "metadata": {},
   "outputs": [],
   "source": [
    "import matplotlib.pyplot as plt\n",
    "\n",
    "def show_boxplot(gl_data, account_key, details):\n",
    "    # Filter data based on the specified Account_key and Details\n",
    "    filtered_data = gl_data[(gl_data['Account_key'] == account_key) & (gl_data['Details'] == details)]\n",
    "    \n",
    "    # Check if the filtered data is empty\n",
    "    if filtered_data.empty:\n",
    "        print(f\"No data found for Account_key: {account_key} and Details: {details}\")\n",
    "        return\n",
    "    \n",
    "    # Create a boxplot for the Amount column of the filtered data\n",
    "    plt.figure(figsize=(10, 6))\n",
    "    plt.boxplot(filtered_data['Amount'], vert=False)\n",
    "    plt.title(f'Boxplot for Account_key: {account_key} and Details: {details}')\n",
    "    plt.xlabel('Amount')\n",
    "    plt.show()\n",
    "\n"
   ]
  },
  {
   "cell_type": "code",
   "execution_count": 7,
   "metadata": {},
   "outputs": [
    {
     "data": {
      "image/png": "[encoded data removed]",
      "text/plain": [
       "<Figure size 1000x600 with 1 Axes>"
      ]
     },
     "metadata": {},
     "output_type": "display_data"
    }
   ],
   "source": [
    "# Example usage\n",
    "show_boxplot(gl_data, 120, 'Credit Expenses')"
   ]
  },
  {
   "cell_type": "code",
   "execution_count": 12,
   "metadata": {},
   "outputs": [
    {
     "name": "stdout",
     "output_type": "stream",
     "text": [
      "Number of anomalies: 2787\n",
      "Total number of data points: 27909\n"
     ]
    }
   ],
   "source": [
    "#Isolation Forest Algorithm\n",
    "from sklearn.preprocessing import OneHotEncoder, StandardScaler\n",
    "from sklearn.ensemble import IsolationForest\n",
    "\n",
    "\n",
    "# Step 1: Convert the 'Date' column to numerical format\n",
    "gl_data['Date'] = pd.to_datetime(gl_data['Date'])\n",
    "gl_data['Date'] = gl_data['Date'].map(pd.Timestamp.toordinal)\n",
    "\n",
    "# Step 2: Encode the 'Details' column using one-hot encoding\n",
    "encoder = OneHotEncoder()\n",
    "encoded_details = encoder.fit_transform(gl_data[['Details']]).toarray()\n",
    "encoded_details_df = pd.DataFrame(encoded_details, columns=encoder.get_feature_names_out(['Details']))\n",
    "\n",
    "# Step 3: Normalize the 'Amount' column\n",
    "scaler = StandardScaler()\n",
    "gl_data['Amount'] = scaler.fit_transform(gl_data[['Amount']])\n",
    "\n",
    "# Combine the processed columns into a single dataframe\n",
    "processed_data = pd.concat([gl_data[['Date', 'Amount']], encoded_details_df], axis=1)\n",
    "\n",
    "# Step 4: Apply the Isolation Forest algorithm\n",
    "iso_forest = IsolationForest(contamination=0.1, random_state=42)\n",
    "gl_data['anomaly'] = iso_forest.fit_predict(processed_data)\n",
    "gl_data['anomaly_score'] = iso_forest.decision_function(processed_data)\n",
    "\n",
    "# Step 5: Summarize the results\n",
    "# -1 indicates an anomaly, 1 indicates normal\n",
    "anomalies = gl_data[gl_data['anomaly'] == -1]\n",
    "\n",
    "# Display the number of anomalies and the total number of data points\n",
    "num_anomalies = anomalies.shape[0]\n",
    "total_data_points = gl_data.shape[0]\n",
    "\n",
    "print(\"Number of anomalies:\", num_anomalies)\n",
    "print(\"Total number of data points:\", total_data_points)\n",
    "\n",
    "# If you want to save the anomalies to a new Excel file\n",
    "#anomalies.to_excel('/mnt/data/Anomalies.xlsx', index=False)\n"
   ]
  },
  {
   "cell_type": "code",
   "execution_count": 13,
   "metadata": {},
   "outputs": [
    {
     "name": "stdout",
     "output_type": "stream",
     "text": [
      "Top 10 Anomalous Points:\n",
      "        EntryNo    Date  Territory_key  Account_key  \\\n",
      "27439   1929.1  719163              1          200   \n",
      "27427   1261.1  719163              1          200   \n",
      "27440   1983.1  719163              1          200   \n",
      "27655   1937.1  719163              7          200   \n",
      "3222    1633.1  719163              1           60   \n",
      "3573    1811.2  719163              1          110   \n",
      "3572    1811.1  719163              1           60   \n",
      "3686    1869.1  719163              1           60   \n",
      "3223    1633.2  719163              1          110   \n",
      "3459    1753.2  719163              1          110   \n",
      "\n",
      "                                           Details    Amount  Unnamed: 6  \\\n",
      "27439  Transfer of Net Profit to Retained Earnings  4.362858         NaN   \n",
      "27427  Transfer of Net Profit to Retained Earnings  3.433352         NaN   \n",
      "27440  Transfer of Net Profit to Retained Earnings  3.277153         NaN   \n",
      "27655  Transfer of Net Profit to Retained Earnings  3.712226         NaN   \n",
      "3222                            Inventory Purchase  3.693080         NaN   \n",
      "3573                            Inventory Purchase  3.693080         NaN   \n",
      "3572                            Inventory Purchase  3.693080         NaN   \n",
      "3686                            Inventory Purchase  3.693080         NaN   \n",
      "3223                            Inventory Purchase  3.693080         NaN   \n",
      "3459                            Inventory Purchase  3.693080         NaN   \n",
      "\n",
      "       Unnamed: 7  Unnamed: 8  Unnamed: 9  Unnamed: 10 Unnamed: 11  anomaly  \\\n",
      "27439         NaN         NaN         NaN          NaN         NaN       -1   \n",
      "27427         NaN         NaN         NaN          NaN         NaN       -1   \n",
      "27440         NaN         NaN         NaN          NaN         NaN       -1   \n",
      "27655         NaN         NaN         NaN          NaN         NaN       -1   \n",
      "3222          NaN         NaN         NaN          NaN         NaN       -1   \n",
      "3573          NaN         NaN         NaN          NaN         NaN       -1   \n",
      "3572          NaN         NaN         NaN          NaN         NaN       -1   \n",
      "3686          NaN         NaN         NaN          NaN         NaN       -1   \n",
      "3223          NaN         NaN         NaN          NaN         NaN       -1   \n",
      "3459          NaN         NaN         NaN          NaN         NaN       -1   \n",
      "\n",
      "       anomaly_score  \n",
      "27439      -0.051185  \n",
      "27427      -0.049656  \n",
      "27440      -0.049656  \n",
      "27655      -0.049656  \n",
      "3222       -0.048983  \n",
      "3573       -0.048983  \n",
      "3572       -0.048983  \n",
      "3686       -0.048983  \n",
      "3223       -0.048983  \n",
      "3459       -0.048983  \n"
     ]
    },
    {
     "data": {
      "image/png": "[encoded data removed]",
      "text/plain": [
       "<Figure size 1000x600 with 1 Axes>"
      ]
     },
     "metadata": {},
     "output_type": "display_data"
    }
   ],
   "source": [
    "\n",
    "# Sort by anomaly score to inspect the most anomalous points\n",
    "sorted_data = gl_data.sort_values(by='anomaly_score')\n",
    "\n",
    "# Display the top 10 most anomalous points\n",
    "print(\"Top 10 Anomalous Points:\\n\", sorted_data.head(10))\n",
    "\n",
    "# Plot the anomaly scores\n",
    "plt.figure(figsize=(10, 6))\n",
    "plt.hist(gl_data['anomaly_score'], bins=50, alpha=0.75)\n",
    "plt.title('Anomaly Scores')\n",
    "plt.xlabel('Score')\n",
    "plt.ylabel('Frequency')\n",
    "plt.show()"
   ]
  },
  {
   "cell_type": "code",
   "execution_count": null,
   "metadata": {},
   "outputs": [],
   "source": []
  }
 ],
 "metadata": {
  "kernelspec": {
   "display_name": "newquant",
   "language": "python",
   "name": "python3"
  },
  "language_info": {
   "codemirror_mode": {
    "name": "ipython",
    "version": 3
   },
   "file_extension": ".py",
   "mimetype": "text/x-python",
   "name": "python",
   "nbconvert_exporter": "python",
   "pygments_lexer": "ipython3",
   "version": "3.9.19"
  }
 },
 "nbformat": 4,
 "nbformat_minor": 2
}
